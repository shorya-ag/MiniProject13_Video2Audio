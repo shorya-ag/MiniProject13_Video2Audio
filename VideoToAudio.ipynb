{
  "nbformat": 4,
  "nbformat_minor": 0,
  "metadata": {
    "colab": {
      "provenance": [],
      "authorship_tag": "ABX9TyMAM69OoX5cEQ1uXVZ4OH1I",
      "include_colab_link": true
    },
    "kernelspec": {
      "name": "python3",
      "display_name": "Python 3"
    },
    "language_info": {
      "name": "python"
    }
  },
  "cells": [
    {
      "cell_type": "markdown",
      "metadata": {
        "id": "view-in-github",
        "colab_type": "text"
      },
      "source": [
        "<a href=\"https://colab.research.google.com/github/shorya-ag/MiniProject13_Video2Audio/blob/main/VideoToAudio.ipynb\" target=\"_parent\"><img src=\"https://colab.research.google.com/assets/colab-badge.svg\" alt=\"Open In Colab\"/></a>"
      ]
    },
    {
      "cell_type": "code",
      "execution_count": 1,
      "metadata": {
        "colab": {
          "base_uri": "https://localhost:8080/"
        },
        "id": "QG5JiBDBqxLI",
        "outputId": "c1640070-77cb-4836-d4c5-7d5cd34ceab8"
      },
      "outputs": [
        {
          "output_type": "stream",
          "name": "stdout",
          "text": [
            "Looking in indexes: https://pypi.org/simple, https://us-python.pkg.dev/colab-wheels/public/simple/\n",
            "Collecting video2audio\n",
            "  Downloading video2audio-2023.1.14-py3-none-any.whl (7.4 kB)\n",
            "Installing collected packages: video2audio\n",
            "Successfully installed video2audio-2023.1.14\n"
          ]
        }
      ],
      "source": [
        "!pip install video2audio"
      ]
    },
    {
      "cell_type": "code",
      "source": [
        "from video2audio import AVFile\n",
        "f = AVFile('/content/WhatsApp Video 2023-06-18 at 12.33.38.mkv')\n"
      ],
      "metadata": {
        "id": "orcKgPUMq7Tp"
      },
      "execution_count": 10,
      "outputs": []
    },
    {
      "cell_type": "code",
      "source": [
        "f.extract_audio('hello.mp3', chapter=None)"
      ],
      "metadata": {
        "id": "NJWYyb4msJt7"
      },
      "execution_count": 11,
      "outputs": []
    }
  ]
}